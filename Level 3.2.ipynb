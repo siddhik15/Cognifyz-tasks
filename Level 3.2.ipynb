{
 "cells": [
  {
   "cell_type": "code",
   "execution_count": 3,
   "id": "1b0f2ca9-0342-45d1-adc6-526a8066e8be",
   "metadata": {},
   "outputs": [
    {
     "name": "stdout",
     "output_type": "stream",
     "text": [
      "Restaurants with the highest number of votes:\n",
      "    Restaurant Name  Votes\n",
      "728            Toit  10934\n"
     ]
    }
   ],
   "source": [
    "\n",
    "import pandas as pd\n",
    "import matplotlib.pyplot as plt\n",
    "data=pd.read_csv(\"C:\\\\Users\\\\Lenovo\\\\Desktop\\\\Dataset .csv\")\n",
    "highest_votes = data[data['Votes'] == data['Votes'].max()]\n",
    "print(\"Restaurants with the highest number of votes:\")\n",
    "print(highest_votes[['Restaurant Name', 'Votes']])"
   ]
  },
  {
   "cell_type": "code",
   "execution_count": 5,
   "id": "8d34ee1c-257e-4f78-8a4b-0c21e2e50534",
   "metadata": {},
   "outputs": [
    {
     "name": "stdout",
     "output_type": "stream",
     "text": [
      "\n",
      "Restaurants with the lowest number of votes:\n",
      "                 Restaurant Name  Votes\n",
      "69              Cantinho da Gula      0\n",
      "874                The Chaiwalas      0\n",
      "879           Fusion Food Corner      0\n",
      "880                Punjabi Rasoi      0\n",
      "887                Baskin Robbin      0\n",
      "...                          ...    ...\n",
      "9044               6 Packs Momos      0\n",
      "9098                   Cafe' Wow      0\n",
      "9099  Chef's Basket Pop Up Caf��      0\n",
      "9103            The Hangout-Deli      0\n",
      "9111                    Platters      0\n",
      "\n",
      "[1094 rows x 2 columns]\n"
     ]
    }
   ],
   "source": [
    "\n",
    "lowest_votes = data[data['Votes'] == data['Votes'].min()]\n",
    "print(\"\\nRestaurants with the lowest number of votes:\")\n",
    "print(lowest_votes[['Restaurant Name', 'Votes']])"
   ]
  },
  {
   "cell_type": "code",
   "execution_count": null,
   "id": "a3aa2f1e-7c1d-4893-b0bd-3ff98523fb20",
   "metadata": {},
   "outputs": [],
   "source": []
  }
 ],
 "metadata": {
  "kernelspec": {
   "display_name": "Python [conda env:New folder]",
   "language": "python",
   "name": "conda-env-New_folder-py"
  },
  "language_info": {
   "codemirror_mode": {
    "name": "ipython",
    "version": 3
   },
   "file_extension": ".py",
   "mimetype": "text/x-python",
   "name": "python",
   "nbconvert_exporter": "python",
   "pygments_lexer": "ipython3",
   "version": "3.12.7"
  }
 },
 "nbformat": 4,
 "nbformat_minor": 5
}
